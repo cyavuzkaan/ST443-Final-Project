{
 "cells": [
  {
   "cell_type": "markdown",
   "metadata": {},
   "source": [
    "###  **Candidate number: 41830**"
   ]
  },
  {
   "cell_type": "markdown",
   "metadata": {},
   "source": [
    "# Assignment week 5 (summative)"
   ]
  },
  {
   "cell_type": "markdown",
   "metadata": {},
   "source": [
    "In this assignment you will use the Openweathermap Current Whether Data API to access weather information for cities in the UK. You need to sign up for an account with Openweathermap to get a Key. You will get 1,000 API calls per day for free. https://openweathermap.org/api"
   ]
  },
  {
   "cell_type": "markdown",
   "metadata": {},
   "source": [
    "#### Q1. Get a list of all cities in the UK (excluding Crown Dependencies and Overseas Territories). (15 points)\n",
    "Hint: To get the name of all cities in UK, consider scraping this website https://www.gov.uk/government/publications/list-of-cities/list-of-cities-html."
   ]
  },
  {
   "cell_type": "code",
   "execution_count": 102,
   "metadata": {},
   "outputs": [
    {
     "name": "stdout",
     "output_type": "stream",
     "text": [
      "['Bath', 'Birmingham', 'Bradford', 'Brighton & Hove', 'Bristol', 'Cambridge', 'Canterbury', 'Carlisle', 'Chelmsford', 'Chester', 'Chichester', 'Colchester', 'Coventry', 'Derby', 'Doncaster', 'Durham', 'Ely', 'Exeter', 'Gloucester', 'Hereford', 'Kingston-upon-Hull', 'Lancaster', 'Leeds', 'Leicester', 'Lichfield', 'Lincoln', 'Liverpool', 'London', 'Manchester', 'Milton Keynes', 'Newcastle-upon-Tyne', 'Norwich', 'Nottingham', 'Oxford', 'Peterborough', 'Plymouth', 'Portsmouth', 'Preston', 'Ripon', 'Salford', 'Salisbury', 'Sheffield', 'Southampton', 'Southend-on-Sea', 'St Albans', 'Stoke on Trent', 'Sunderland', 'Truro', 'Wakefield', 'Wells', 'Westminster', 'Winchester', 'Wolverhampton', 'Worcester', 'York', 'Armagh', 'Belfast', 'Lisburn', 'Londonderry', 'Newry', 'Aberdeen', 'Dundee', 'Dunfermline', 'Edinburgh', 'Glasgow', 'Inverness', 'Perth', 'Stirling', 'Bangor', 'Cardiff', 'Newport', 'St Asaph', 'St Davids', 'Swansea', 'Wrexham']\n"
     ]
    }
   ],
   "source": [
    "import requests\n",
    "res = requests.get(\"https://www.gov.uk/government/publications/list-of-cities/list-of-cities-html\")\n",
    "soup = BeautifulSoup(res.content,'lxml')\n",
    "lists = soup.find_all('li')\n",
    "char = []\n",
    "ind = []\n",
    "\n",
    "for dt in lists:\n",
    "    row = []\n",
    "    chars = dt.text.split(': ')\n",
    "    ind.append(chars)\n",
    "ind\n",
    "# Exclude all cities that are not in UK\n",
    "fentry = ind.index(['Bath'])\n",
    "lentry = ind.index(['Wrexham'])\n",
    "cities = ind[fentry:lentry+1] #to include last entry\n",
    "cities = [item[0] for item in cities] \n",
    "\n",
    "cleaned_cities = []\n",
    "for item in cities:\n",
    "    clean_city = item.replace('*', '') \n",
    "    cleaned_cities.append(clean_city)\n",
    "\n",
    "#Based on the email, im chosing to exclude both Bangor\n",
    "cleaned_cities.remove('Bangor')\n",
    "\n",
    "print(cleaned_cities)"
   ]
  },
  {
   "cell_type": "markdown",
   "metadata": {},
   "source": [
    "#### Q2. Use the Openweathermap Current Whether Data API to access the following information for each city: **main.temp, wind.speed, rain (1h) and Time of data calculation (dt)**. Use default units for these variables. Add the city name, temperature, wind, rain and dt information to a DataFrame as separate columns. If one of these attributes is missing, replace it with NONE. (25 points)\n",
    "Hint: You may find it easier to create a dictionary with cities as keys and temperature, wind, rain and date as values first and then convert it into a DataFrame."
   ]
  },
  {
   "cell_type": "code",
   "execution_count": 103,
   "metadata": {
    "vscode": {
     "languageId": "plaintext"
    }
   },
   "outputs": [
    {
     "data": {
      "text/html": [
       "<div>\n",
       "<style scoped>\n",
       "    .dataframe tbody tr th:only-of-type {\n",
       "        vertical-align: middle;\n",
       "    }\n",
       "\n",
       "    .dataframe tbody tr th {\n",
       "        vertical-align: top;\n",
       "    }\n",
       "\n",
       "    .dataframe thead th {\n",
       "        text-align: right;\n",
       "    }\n",
       "</style>\n",
       "<table border=\"1\" class=\"dataframe\">\n",
       "  <thead>\n",
       "    <tr style=\"text-align: right;\">\n",
       "      <th></th>\n",
       "      <th>City name</th>\n",
       "      <th>Temperature</th>\n",
       "      <th>Wind</th>\n",
       "      <th>Rain</th>\n",
       "      <th>dt</th>\n",
       "    </tr>\n",
       "  </thead>\n",
       "  <tbody>\n",
       "    <tr>\n",
       "      <th>0</th>\n",
       "      <td>Bath</td>\n",
       "      <td>285.85</td>\n",
       "      <td>1.83</td>\n",
       "      <td>none</td>\n",
       "      <td>1730898953</td>\n",
       "    </tr>\n",
       "    <tr>\n",
       "      <th>1</th>\n",
       "      <td>Birmingham</td>\n",
       "      <td>293.86</td>\n",
       "      <td>2.34</td>\n",
       "      <td>none</td>\n",
       "      <td>1730899221</td>\n",
       "    </tr>\n",
       "    <tr>\n",
       "      <th>2</th>\n",
       "      <td>Bradford</td>\n",
       "      <td>287.03</td>\n",
       "      <td>1.54</td>\n",
       "      <td>none</td>\n",
       "      <td>1730898956</td>\n",
       "    </tr>\n",
       "    <tr>\n",
       "      <th>3</th>\n",
       "      <td>Brighton &amp; Hove</td>\n",
       "      <td>284.08</td>\n",
       "      <td>1.54</td>\n",
       "      <td>none</td>\n",
       "      <td>1730899039</td>\n",
       "    </tr>\n",
       "    <tr>\n",
       "      <th>4</th>\n",
       "      <td>Bristol</td>\n",
       "      <td>291.7</td>\n",
       "      <td>4.63</td>\n",
       "      <td>none</td>\n",
       "      <td>1730899065</td>\n",
       "    </tr>\n",
       "  </tbody>\n",
       "</table>\n",
       "</div>"
      ],
      "text/plain": [
       "         City name Temperature  Wind  Rain          dt\n",
       "0             Bath      285.85  1.83  none  1730898953\n",
       "1       Birmingham      293.86  2.34  none  1730899221\n",
       "2         Bradford      287.03  1.54  none  1730898956\n",
       "3  Brighton & Hove      284.08  1.54  none  1730899039\n",
       "4          Bristol       291.7  4.63  none  1730899065"
      ]
     },
     "execution_count": 103,
     "metadata": {},
     "output_type": "execute_result"
    }
   ],
   "source": [
    "import requests\n",
    "from bs4 import BeautifulSoup\n",
    "import pandas as pd\n",
    "import os\n",
    "import json\n",
    "api_key = \"640ef4eecc6d375e896d081557ec3408\"\n",
    "#Initialize\n",
    "mtepm = []\n",
    "wspee = []\n",
    "rain = []\n",
    "dtime = []\n",
    "\n",
    "for item in cleaned_cities:\n",
    "    \n",
    "    query = 'q='+item\n",
    "    res=requests.get('http://api.openweathermap.org/data/2.5/weather?'+query+'&APPID='+api_key)\n",
    "    data = res.json()\n",
    "\n",
    "    mt = data.get('main', {}).get('temp', 'none')\n",
    "    mtepm.append(mt)\n",
    "    ws = data.get('wind', {}).get('speed', 'none')\n",
    "    wspee.append(ws)\n",
    "    ra = data.get('rain', {}).get('1h', 'none') \n",
    "    rain.append(ra)\n",
    "    dt = data.get('dt', \"none\") \n",
    "    dtime.append(dt)\n",
    "    \n",
    "data = {\n",
    "    'City name': cleaned_cities,\n",
    "    'Temperature': mtepm,\n",
    "    'Wind' : wspee,\n",
    "    'Rain' : rain,\n",
    "    'dt' : dtime\n",
    "}\n",
    "df = pd.DataFrame(data)\n",
    "df.head()\n"
   ]
  },
  {
   "cell_type": "markdown",
   "metadata": {},
   "source": [
    "#### Q3. The Time of data calculation (dt) is in Unix Timestamp format. Convert it to standard UTC (``dd/mm/yy @ HH:MM:SS``). Print out the updated DataFrame. (5 points)\n",
    "Hint: You may use ``datetime.fromtimestamp`` to convert dt."
   ]
  },
  {
   "cell_type": "code",
   "execution_count": 104,
   "metadata": {},
   "outputs": [
    {
     "name": "stdout",
     "output_type": "stream",
     "text": [
      "          City name Temperature  Wind  Rain                   dt\n",
      "0              Bath      285.85  1.83  none  2024-11-06 13:15:53\n",
      "1        Birmingham      293.86  2.34  none  2024-11-06 13:20:21\n",
      "2          Bradford      287.03  1.54  none  2024-11-06 13:15:56\n",
      "3   Brighton & Hove      284.08  1.54  none  2024-11-06 13:17:19\n",
      "4           Bristol       291.7  4.63  none  2024-11-06 13:17:45\n",
      "..              ...         ...   ...   ...                  ...\n",
      "70          Newport      286.14  0.85  none  2024-11-06 13:15:54\n",
      "71         St Asaph       288.5  1.37  none  2024-11-06 13:20:25\n",
      "72        St Davids      286.46  7.29  none  2024-11-06 13:17:22\n",
      "73          Swansea      287.26  2.68  none  2024-11-06 13:18:08\n",
      "74          Wrexham      287.11  4.63  none  2024-11-06 13:20:25\n",
      "\n",
      "[75 rows x 5 columns]\n"
     ]
    }
   ],
   "source": [
    "import pandas as pd\n",
    "from datetime import datetime\n",
    "\n",
    "# I had to define a function bc the none values where causing an error\n",
    "def safe_fromtimestamp(x):\n",
    "    try:\n",
    "        #convert to time\n",
    "        return datetime.fromtimestamp(int(x))\n",
    "    except (ValueError, TypeError):\n",
    "        # return none if conversion fails\n",
    "        return 'none'\n",
    "\n",
    "df['dt'] = df['dt'].apply(safe_fromtimestamp)\n",
    "print(df)"
   ]
  },
  {
   "cell_type": "markdown",
   "metadata": {},
   "source": [
    "#### Q4. The default temperature units in Openweathermap are Kelvin. Convert it to Celsius. Print out the DataFrame. (5 points)\n",
    "Hint: You may use the API to access the temperature in Celsius or use the convertion formula to convert the Kelvin values in your DataFrame. "
   ]
  },
  {
   "cell_type": "code",
   "execution_count": 105,
   "metadata": {
    "vscode": {
     "languageId": "plaintext"
    }
   },
   "outputs": [
    {
     "name": "stdout",
     "output_type": "stream",
     "text": [
      "          City name Temperature  Wind  Rain                   dt\n",
      "0              Bath          12  1.83  none  2024-11-06 13:15:53\n",
      "1        Birmingham          20  2.34  none  2024-11-06 13:20:21\n",
      "2          Bradford          14  1.54  none  2024-11-06 13:15:56\n",
      "3   Brighton & Hove          11  1.54  none  2024-11-06 13:17:19\n",
      "4           Bristol          18  4.63  none  2024-11-06 13:17:45\n",
      "..              ...         ...   ...   ...                  ...\n",
      "70          Newport          13  0.85  none  2024-11-06 13:15:54\n",
      "71         St Asaph          15  1.37  none  2024-11-06 13:20:25\n",
      "72        St Davids          13  7.29  none  2024-11-06 13:17:22\n",
      "73          Swansea          14  2.68  none  2024-11-06 13:18:08\n",
      "74          Wrexham          14  4.63  none  2024-11-06 13:20:25\n",
      "\n",
      "[75 rows x 5 columns]\n"
     ]
    }
   ],
   "source": [
    "import pandas as pd\n",
    "from datetime import datetime\n",
    "\n",
    "# Idem for dt, I had to define a function\n",
    "def safe_kelvintocel(x):\n",
    "    try:\n",
    "        if int(x) > 100: # T>100 means that the temp was in Kelvin\n",
    "            return int(x)-273\n",
    "        else:\n",
    "            return int(x)\n",
    "    \n",
    "    except (ValueError, TypeError):\n",
    "        # return none if conversion fails\n",
    "        return 'none'\n",
    "\n",
    "df['Temperature'] = df['Temperature'].apply(safe_kelvintocel)\n",
    "print(df)"
   ]
  }
 ],
 "metadata": {
  "kernelspec": {
   "display_name": "Python 3 (ipykernel)",
   "language": "python",
   "name": "python3"
  },
  "language_info": {
   "codemirror_mode": {
    "name": "ipython",
    "version": 3
   },
   "file_extension": ".py",
   "mimetype": "text/x-python",
   "name": "python",
   "nbconvert_exporter": "python",
   "pygments_lexer": "ipython3",
   "version": "3.7.1"
  }
 },
 "nbformat": 4,
 "nbformat_minor": 2
}
